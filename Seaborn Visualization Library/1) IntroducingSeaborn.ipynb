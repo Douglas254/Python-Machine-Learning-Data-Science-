{
 "cells": [
  {
   "cell_type": "markdown",
   "metadata": {},
   "source": [
    "# Seaborn Visualization Library\n",
    "## Introduction and Installation\n",
    "Mandatory Dependencies\n",
    "Numpy\n",
    "Scipy\n",
    "Pandas\n",
    "Matplotlib\n",
    "Statsmodels (recommended not mandatory)\n",
    "\n",
    "### Installation and Setup\n",
    "Conda or pip environments can be used to install Seaborn Library\n",
    "\n",
    "pip install seaborn\n",
    "\n",
    "conda install -c conda-forge seaborn\n",
    "\n",
    "you can install the whole Anaconda package [here](https://www.anaconda.com/products/individual)"
   ]
  },
  {
   "cell_type": "code",
   "execution_count": 1,
   "metadata": {},
   "outputs": [],
   "source": [
    "# Importing the library\n",
    "import seaborn as sns"
   ]
  },
  {
   "cell_type": "code",
   "execution_count": 2,
   "metadata": {},
   "outputs": [
    {
     "data": {
      "text/plain": [
       "'0.11.0'"
      ]
     },
     "execution_count": 2,
     "metadata": {},
     "output_type": "execute_result"
    }
   ],
   "source": [
    "# Checking the seaborn version installed\n",
    "sns.__version__"
   ]
  }
 ],
 "metadata": {
  "kernelspec": {
   "display_name": "Python 3",
   "language": "python",
   "name": "python3"
  },
  "language_info": {
   "codemirror_mode": {
    "name": "ipython",
    "version": 3
   },
   "file_extension": ".py",
   "mimetype": "text/x-python",
   "name": "python",
   "nbconvert_exporter": "python",
   "pygments_lexer": "ipython3",
   "version": "3.8.5"
  }
 },
 "nbformat": 4,
 "nbformat_minor": 4
}
